{
 "cells": [
  {
   "cell_type": "markdown",
   "id": "27c3b870",
   "metadata": {},
   "source": [
    "# 23.09.2022"
   ]
  },
  {
   "cell_type": "markdown",
   "id": "544790d8",
   "metadata": {},
   "source": [
    "## Group work\n",
    "\n",
    "Write a clear problem statement\n",
    "\n",
    "Create at least 5 functional requirement\n",
    "\n",
    "Create a use case diagram covering all 6 concepts:\n",
    "\n",
    "System boundary, Use case, Actors, Associations, Include, Extend"
   ]
  },
  {
   "cell_type": "markdown",
   "id": "bea05ab3",
   "metadata": {},
   "source": [
    "### Hotel Systems requirement\n",
    "\n",
    "Guests should be able to search the room inventory and book any available room. //The word \"and\" makes it a conditional statement. Guests HAVE to search a room to book a room.\n",
    "\n",
    "A resceptionist should be able to add, modify rooms, remove rooms, check in and check out customers, as well as all the functionalities.\n",
    "\n"
   ]
  },
  {
   "cell_type": "code",
   "execution_count": null,
   "id": "62b4abba",
   "metadata": {},
   "outputs": [],
   "source": []
  }
 ],
 "metadata": {
  "kernelspec": {
   "display_name": "Python 3 (ipykernel)",
   "language": "python",
   "name": "python3"
  },
  "language_info": {
   "codemirror_mode": {
    "name": "ipython",
    "version": 3
   },
   "file_extension": ".py",
   "mimetype": "text/x-python",
   "name": "python",
   "nbconvert_exporter": "python",
   "pygments_lexer": "ipython3",
   "version": "3.9.12"
  }
 },
 "nbformat": 4,
 "nbformat_minor": 5
}

{
 "cells": [
  {
   "cell_type": "markdown",
   "id": "ac00b99c",
   "metadata": {},
   "source": [
    "# 30.09.2022"
   ]
  },
  {
   "cell_type": "markdown",
   "id": "a8a766bb",
   "metadata": {},
   "source": [
    "## Class diagrams"
   ]
  },
  {
   "cell_type": "markdown",
   "id": "7230fa0c",
   "metadata": {},
   "source": [
    "Describes the types of objects that can be created\n",
    "\n",
    "Shows the attributes of classes (properties/variables)\n",
    "\n",
    "Operations of class that can occur (methods)\n",
    "\n",
    "Relationships between these objects"
   ]
  },
  {
   "cell_type": "markdown",
   "id": "e78a2cf1",
   "metadata": {},
   "source": [
    "### Relationships between objects\n",
    "\n",
    "Association: Class A and Class B can call each other.\n",
    "             Is a solid line between two classes, directed form the source class to the target class.\n",
    "             The name of the property goes at the target end of the association, together with its multiplicity.\n",
    "The multiplicity of a property ia an indication of how many objects may fill the property.\n",
    "\n",
    "Type A: 1(An order must have precisely one customer)\n",
    "\n",
    "Type B: 0..1(A corporate customer may or may not have a single sales rep.)\n",
    "\n",
    "Type C: \\*(no bounds, zero to many)\n",
    "             \n",
    "             \n",
    "Unidirectional association: One-way association"
   ]
  },
  {
   "cell_type": "markdown",
   "id": "931d7137",
   "metadata": {},
   "source": [
    "Generalization = Inheritance\n",
    "\n",
    "Composition: A \"has-an\" instance of B. B cannot exist without A.\n",
    "Aggregation: Useless\n"
   ]
  }
 ],
 "metadata": {
  "kernelspec": {
   "display_name": "Python 3 (ipykernel)",
   "language": "python",
   "name": "python3"
  },
  "language_info": {
   "codemirror_mode": {
    "name": "ipython",
    "version": 3
   },
   "file_extension": ".py",
   "mimetype": "text/x-python",
   "name": "python",
   "nbconvert_exporter": "python",
   "pygments_lexer": "ipython3",
   "version": "3.9.12"
  }
 },
 "nbformat": 4,
 "nbformat_minor": 5
}

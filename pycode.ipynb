{
 "cells": [
  {
   "cell_type": "markdown",
   "id": "c6e539fa",
   "metadata": {},
   "source": [
    "# Notes from class 26.08.22"
   ]
  },
  {
   "cell_type": "code",
   "execution_count": 22,
   "id": "a7e96189",
   "metadata": {},
   "outputs": [],
   "source": [
    "class Employee:\n",
    "    \n",
    "    #constructor\n",
    "    def __init__(self, name, salary, project):\n",
    "        self.name = name\n",
    "        self.salary = salary #private\n",
    "        self.project = project\n",
    "        "
   ]
  },
  {
   "cell_type": "code",
   "execution_count": 23,
   "id": "0ff24272",
   "metadata": {},
   "outputs": [
    {
     "name": "stdout",
     "output_type": "stream",
     "text": [
      "Bendik, 45000, NLP\n"
     ]
    }
   ],
   "source": [
    "#creating object of class\n",
    "emp = Employee('Bendik', 45000, 'NLP')\n",
    "\n",
    "#calling public method\n",
    "print(f'{emp.name}, {emp.salary}, {emp.project}')"
   ]
  },
  {
   "cell_type": "code",
   "execution_count": 26,
   "id": "da2074aa",
   "metadata": {},
   "outputs": [
    {
     "name": "stdout",
     "output_type": "stream",
     "text": [
      "Bendik, 45000\n"
     ]
    }
   ],
   "source": [
    "class Employee:\n",
    "    \n",
    "    #constructor\n",
    "    def __init__(self, name, salary):\n",
    "        self.name = name\n",
    "        self.__salary = salary #private\n",
    "\n",
    "    def show(self):\n",
    "        print(f'{self.name}, {self.__salary}') #public method\n",
    "        \n",
    "emp = Employee('Bendik', 45000)\n",
    "\n",
    "emp.show()"
   ]
  },
  {
   "cell_type": "code",
   "execution_count": 27,
   "id": "c0d0ed0c",
   "metadata": {},
   "outputs": [
    {
     "name": "stdout",
     "output_type": "stream",
     "text": [
      "Bendik\n",
      "45000\n"
     ]
    }
   ],
   "source": [
    "class Employee:\n",
    "    \n",
    "    #constructor\n",
    "    def __init__(self, name, salary):\n",
    "        self.name = name\n",
    "        self.__salary = salary #private\n",
    "        \n",
    "emp = Employee('Bendik', 45000)\n",
    "\n",
    "print(emp.name)\n",
    "print(emp._Employee__salary) #name mangling"
   ]
  },
  {
   "cell_type": "code",
   "execution_count": 30,
   "id": "fb6b86de",
   "metadata": {},
   "outputs": [
    {
     "name": "stdout",
     "output_type": "stream",
     "text": [
      "Employee name: Bendik\n",
      "Working on project: NLP\n",
      "Project: NLP\n"
     ]
    }
   ],
   "source": [
    "class Company:\n",
    "    def __init__(self):\n",
    "        self._project = \"NLP\"\n",
    "        \n",
    "class Employee(Company):\n",
    "    def __init__(self, name):\n",
    "        self.name = name\n",
    "        Company.__init__(self)\n",
    "        \n",
    "    def show(self):\n",
    "        print(\"Employee name:\", self.name)\n",
    "        print(\"Working on project:\", self._project)\n",
    "        \n",
    "c = Employee(\"Bendik\")\n",
    "c.show()\n",
    "\n",
    "print(\"Project:\", c._project)"
   ]
  },
  {
   "cell_type": "code",
   "execution_count": null,
   "id": "656d82da",
   "metadata": {},
   "outputs": [],
   "source": []
  }
 ],
 "metadata": {
  "kernelspec": {
   "display_name": "Python 3 (ipykernel)",
   "language": "python",
   "name": "python3"
  },
  "language_info": {
   "codemirror_mode": {
    "name": "ipython",
    "version": 3
   },
   "file_extension": ".py",
   "mimetype": "text/x-python",
   "name": "python",
   "nbconvert_exporter": "python",
   "pygments_lexer": "ipython3",
   "version": "3.10.4"
  }
 },
 "nbformat": 4,
 "nbformat_minor": 5
}

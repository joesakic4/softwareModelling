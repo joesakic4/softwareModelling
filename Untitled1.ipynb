{
 "cells": [
  {
   "cell_type": "markdown",
   "id": "3c02e4dc",
   "metadata": {},
   "source": [
    "# Notes from class 26.08.22"
   ]
  },
  {
   "cell_type": "code",
   "execution_count": 6,
   "id": "02e49aba",
   "metadata": {},
   "outputs": [],
   "source": [
    "class Employee:\n",
    "    \n",
    "    #constructor\n",
    "    def __init__(self, name, salary, project):\n",
    "        self.name = name\n",
    "        self.salary = salary\n",
    "        self.project = project\n",
    "        "
   ]
  },
  {
   "cell_type": "code",
   "execution_count": null,
   "id": "7a783754",
   "metadata": {},
   "outputs": [],
   "source": [
    "#creating object of class\n",
    "emp = Employee('Bendik', 45000, 'NLP')"
   ]
  },
  {
   "cell_type": "code",
   "execution_count": 5,
   "id": "b49f09b1",
   "metadata": {},
   "outputs": [],
   "source": [
    "class Employee:\n",
    "    def __init__(self, name, project):\n",
    "        self._name = name #Protected\n",
    "        self.__project = project #Private\n",
    "        "
   ]
  }
 ],
 "metadata": {
  "kernelspec": {
   "display_name": "Python 3 (ipykernel)",
   "language": "python",
   "name": "python3"
  },
  "language_info": {
   "codemirror_mode": {
    "name": "ipython",
    "version": 3
   },
   "file_extension": ".py",
   "mimetype": "text/x-python",
   "name": "python",
   "nbconvert_exporter": "python",
   "pygments_lexer": "ipython3",
   "version": "3.10.4"
  }
 },
 "nbformat": 4,
 "nbformat_minor": 5
}

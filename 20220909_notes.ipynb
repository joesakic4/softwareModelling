{
 "cells": [
  {
   "cell_type": "markdown",
   "metadata": {},
   "source": [
    "# 09.09.2022 UML"
   ]
  },
  {
   "cell_type": "markdown",
   "metadata": {},
   "source": [
    "A general purpose visual modeling language.\n",
    "\n",
    "Used to specify, visualize, construct and document the artifacts of a software system.\n",
    "\n",
    "It can show the decisions that were made and stakeholders can see why certain decisions were made.\n",
    "\n",
    "A stakeholder can be a person that is financing your project, or someone affected by it (user).\n",
    "\n",
    "The whole idea: gives the stakeholder a diagram so they can get an idea of whats going on.\n",
    "\n"
   ]
  },
  {
   "cell_type": "markdown",
   "metadata": {},
   "source": [
    "A project that has been going for 100 hours, will take 300 hours to make a UML diagram.\n",
    "\n",
    "Start with the diagrams, then the code. It is very hard to make a diagram after the project is started.\n",
    "\n",
    "## Is it a standard?\n",
    "\n",
    "It is not a standard, it is intended to be useful with an iterative development process.\n",
    "\n",
    "It is not a programming language, but can be used to write programs.\n",
    "\n",
    "It is intended to be a universal general-purpose modeling language for GUI layout, VLSI circuit or rule-based artificial intelligence.\n",
    "\n",
    "UML was developed in an effort to simplify and consolidate the large number of OO-development methods\n",
    "\n",
    "Risk defines if there is a standard! What is the risk for the user if the software fails?\n",
    "\n",
    "\n",
    "\n"
   ]
  },
  {
   "cell_type": "markdown",
   "metadata": {},
   "source": [
    "## Is it enforced?\n",
    "\n",
    "No. It is not enforced and not a standard.\n",
    "\n",
    "It was an effort to unify concepts among methods for books on OO-methodology\n",
    "\n",
    "It was created for OOP.\n",
    "\n"
   ]
  },
  {
   "cell_type": "markdown",
   "metadata": {},
   "source": [
    "## History\n",
    "\n",
    "In 1996, the Object Management Group (OMG) issued a request for proposals for a standard approach to OO modeling.\n",
    "\n",
    "Systems were much simpler back then.\n",
    "\n",
    "In 2005, UML 2.0 was introduced.\n",
    "\n",
    "UML combines the commonly accepted concepts from many OO methods.\n",
    "\n"
   ]
  },
  {
   "cell_type": "markdown",
   "metadata": {},
   "source": [
    "## Benefits of UML\n",
    "\n",
    "Documentation for future maintenence.\n",
    "\n",
    "Easier for software developer to see what kind of program to make.\n",
    "\n",
    "Easy for non software developers to understand the programs.\n",
    "\n",
    "Quick understanding of the code.\n",
    "\n",
    "UML is an abstraction to code.\n",
    "\n",
    "Simplifies systems.\n",
    "\n",
    "Independent of technology used."
   ]
  },
  {
   "cell_type": "markdown",
   "metadata": {},
   "source": [
    "## Types of UML diagrams\n",
    "\n",
    "14 types of diagrams.\n",
    "\n",
    "2 families:\n",
    "Structural diagram (what the program looks like), behavioural diagram (what the program does)\n",
    "\n",
    "### Structural diagrams:\n",
    "Class\n",
    "\n",
    "Object\n",
    "\n",
    "Package\n",
    "\n",
    "Component\n",
    "\n",
    "Composite structure\n",
    "\n",
    "Deployment\n",
    "\n",
    "Profile\n",
    "\n",
    "\n",
    "In this course we are only gonna learn Class diagrams.\n",
    "\n",
    "### Behavioural diagrams:\n",
    "Use\n",
    "\n",
    "Activity\n",
    "\n",
    "Sequence\n",
    "\n",
    "State\n",
    "\n",
    "Communication\n",
    "\n",
    "Interaction overview\n",
    "\n",
    "Timing\n",
    "\n",
    "\n",
    "In this course we will learn use, activity and sequence diagrams."
   ]
  },
  {
   "cell_type": "markdown",
   "metadata": {},
   "source": [
    "## Fact\n",
    "\n",
    "UML is a modeling language, not a description of a detailed development process."
   ]
  },
  {
   "cell_type": "markdown",
   "metadata": {},
   "source": [
    "## UML objectives\n",
    "\n",
    "It is not intended to be a complete development method. \n",
    "\n",
    "### Good to know\n",
    "Modern languages and operating systems are more complicated than those of 50 years ago.\n",
    "\n",
    "UML had several kinds of models, not something you can master in one semester."
   ]
  },
  {
   "cell_type": "markdown",
   "metadata": {},
   "source": [
    "## Complexity of UML #1\n",
    "\n",
    "UML is a product of consensus of persons with varied goals ans interests.\n",
    "\n",
    "It is not as clean or coherent as the product of a single will.\n",
    "\n",
    "It contains superfluous features.\n",
    "\n",
    "It contains overlapping features.\n",
    "\n",
    "UML has a wide usage, can be used to model all kinds of things"
   ]
  },
  {
   "cell_type": "markdown",
   "metadata": {},
   "source": [
    "\n",
    "## Complexity of UML #2\n",
    "\n",
    "There is a tension between concepts for conceptual modeling and programming language representation.\n",
    "\n",
    "You don't have to know or use every feature of UML any more than a software or programming language. Use what you need!\n",
    "\n",
    "It is unnecessary to listen too much to UML language lawyers. There is no single right way to use it.\n",
    "\n"
   ]
  },
  {
   "cell_type": "markdown",
   "metadata": {},
   "source": [
    "## Contradictions everywhere!\n",
    "\n",
    "UML is more than a visual notation. UML models can be used to generate code and test cases.\n",
    "\n"
   ]
  },
  {
   "cell_type": "markdown",
   "metadata": {},
   "source": [
    "## Lecture focus\n",
    "\n",
    "Use case diagrams, Class diagrams, Activity diagrams, Sequence diagrams\n",
    "\n"
   ]
  },
  {
   "cell_type": "markdown",
   "metadata": {},
   "source": [
    "## OO Analysis and Design\n",
    "Before UML\n",
    "\n",
    "Identify objects - define relationshipes - establish interface - make design executable\n",
    "\n",
    "Waterfall model: each process needs to be completed before next process can start."
   ]
  },
  {
   "cell_type": "markdown",
   "metadata": {},
   "source": [
    "### API - Application Programming Interface"
   ]
  }
 ],
 "metadata": {
  "language_info": {
   "name": "python"
  },
  "orig_nbformat": 4
 },
 "nbformat": 4,
 "nbformat_minor": 2
}

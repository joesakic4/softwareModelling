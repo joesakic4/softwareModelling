{
 "cells": [
  {
   "cell_type": "markdown",
   "id": "c6e539fa",
   "metadata": {},
   "source": [
    "# Notes from class 26.08.22"
   ]
  },
  {
   "cell_type": "code",
   "execution_count": 22,
   "id": "a7e96189",
   "metadata": {},
   "outputs": [],
   "source": [
    "class Employee:\n",
    "    \n",
    "    #constructor\n",
    "    def __init__(self, name, salary, project):\n",
    "        self.name = name\n",
    "        self.salary = salary #private\n",
    "        self.project = project\n",
    "        "
   ]
  },
  {
   "cell_type": "code",
   "execution_count": 23,
   "id": "0ff24272",
   "metadata": {},
   "outputs": [
    {
     "name": "stdout",
     "output_type": "stream",
     "text": [
      "Bendik, 45000, NLP\n"
     ]
    }
   ],
   "source": [
    "#creating object of class\n",
    "emp = Employee('Bendik', 45000, 'NLP')\n",
    "\n",
    "#calling public method\n",
    "print(f'{emp.name}, {emp.salary}, {emp.project}')"
   ]
  },
  {
   "cell_type": "code",
   "execution_count": 26,
   "id": "da2074aa",
   "metadata": {},
   "outputs": [
    {
     "name": "stdout",
     "output_type": "stream",
     "text": [
      "Bendik, 45000\n"
     ]
    }
   ],
   "source": [
    "class Employee:\n",
    "    \n",
    "    #constructor\n",
    "    def __init__(self, name, salary):\n",
    "        self.name = name\n",
    "        self.__salary = salary #private\n",
    "\n",
    "    def show(self):\n",
    "        print(f'{self.name}, {self.__salary}') #public method\n",
    "        \n",
    "emp = Employee('Bendik', 45000)\n",
    "\n",
    "emp.show()"
   ]
  },
  {
   "cell_type": "code",
   "execution_count": 27,
   "id": "c0d0ed0c",
   "metadata": {},
   "outputs": [
    {
     "name": "stdout",
     "output_type": "stream",
     "text": [
      "Bendik\n",
      "45000\n"
     ]
    }
   ],
   "source": [
    "class Employee:\n",
    "    \n",
    "    #constructor\n",
    "    def __init__(self, name, salary):\n",
    "        self.name = name\n",
    "        self.__salary = salary #private\n",
    "        \n",
    "emp = Employee('Bendik', 45000)\n",
    "\n",
    "print(emp.name)\n",
    "print(emp._Employee__salary) #name mangling"
   ]
  },
  {
   "cell_type": "code",
   "execution_count": 30,
   "id": "fb6b86de",
   "metadata": {},
   "outputs": [
    {
     "name": "stdout",
     "output_type": "stream",
     "text": [
      "Employee name: Bendik\n",
      "Working on project: NLP\n",
      "Project: NLP\n"
     ]
    }
   ],
   "source": [
    "class Company:\n",
    "    def __init__(self):\n",
    "        self._project = \"NLP\"\n",
    "        \n",
    "class Employee(Company):\n",
    "    def __init__(self, name):\n",
    "        self.name = name\n",
    "        Company.__init__(self)\n",
    "        \n",
    "    def show(self):\n",
    "        print(\"Employee name:\", self.name)\n",
    "        print(\"Working on project:\", self._project)\n",
    "        \n",
    "c = Employee(\"Bendik\")\n",
    "c.show()\n",
    "\n",
    "print(\"Project:\", c._project)"
   ]
  },
  {
   "cell_type": "markdown",
   "id": "97c31ee0",
   "metadata": {},
   "source": [
    "# Class 02.09.22"
   ]
  },
  {
   "cell_type": "markdown",
   "id": "c42f8bee",
   "metadata": {},
   "source": [
    "## 1.2 Abstraction"
   ]
  },
  {
   "cell_type": "code",
   "execution_count": 9,
   "id": "cfd045cb",
   "metadata": {},
   "outputs": [],
   "source": [
    "from abc import ABC,abstractmethod\n",
    "\n",
    "class Animal(ABC):\n",
    "    #concrete method\n",
    "    def sleep(self):\n",
    "        print(\"I am going to sleep in a while\")\n",
    "        \n",
    "    #abstract method\n",
    "    @abstractmethod\n",
    "    def sound(self):\n",
    "        print(\"This function is for defining a sound\")\n",
    "        \n",
    "class Snake(Animal):\n",
    "    def sound(self):\n",
    "        print(\"I can hiss\")\n",
    "\n",
    "class Lion(Animal):\n",
    "    def sound(self):\n",
    "        print(\"I can roar\")\n",
    "        \n",
    "class Cat(Animal):\n",
    "    def sound(self):\n",
    "        print(\"I can meow\")\n",
    "\n",
    "        \n",
    "\n"
   ]
  },
  {
   "cell_type": "code",
   "execution_count": 10,
   "id": "85b336d6",
   "metadata": {},
   "outputs": [
    {
     "name": "stdout",
     "output_type": "stream",
     "text": [
      "I can hiss\n",
      "I can roar\n"
     ]
    }
   ],
   "source": [
    "c = Snake()\n",
    "c.sound()\n",
    "\n",
    "c = Lion()\n",
    "c.sound()"
   ]
  },
  {
   "cell_type": "code",
   "execution_count": 11,
   "id": "40465586",
   "metadata": {},
   "outputs": [
    {
     "name": "stdout",
     "output_type": "stream",
     "text": [
      "This function is for defining a sound\n",
      "I can squeak\n"
     ]
    }
   ],
   "source": [
    "class Rabbit(Animal):\n",
    "    def sound(self):\n",
    "        super().sound() #See what the original abstract method prints\n",
    "        print(\"I can squeak\")\n",
    "        \n",
    "c = Rabbit()\n",
    "c.sound()"
   ]
  },
  {
   "cell_type": "code",
   "execution_count": 12,
   "id": "0260f630",
   "metadata": {},
   "outputs": [
    {
     "ename": "TypeError",
     "evalue": "Can't instantiate abstract class Deer with abstract method sound",
     "output_type": "error",
     "traceback": [
      "\u001b[1;31m---------------------------------------------------------------------------\u001b[0m",
      "\u001b[1;31mTypeError\u001b[0m                                 Traceback (most recent call last)",
      "Input \u001b[1;32mIn [12]\u001b[0m, in \u001b[0;36m<cell line: 4>\u001b[1;34m()\u001b[0m\n\u001b[0;32m      1\u001b[0m \u001b[38;5;28;01mclass\u001b[39;00m \u001b[38;5;21;01mDeer\u001b[39;00m(Animal):\n\u001b[0;32m      2\u001b[0m     \u001b[38;5;28;01mpass\u001b[39;00m\n\u001b[1;32m----> 4\u001b[0m c \u001b[38;5;241m=\u001b[39m \u001b[43mDeer\u001b[49m\u001b[43m(\u001b[49m\u001b[43m)\u001b[49m\n\u001b[0;32m      5\u001b[0m c\u001b[38;5;241m.\u001b[39msound()\n",
      "\u001b[1;31mTypeError\u001b[0m: Can't instantiate abstract class Deer with abstract method sound"
     ]
    }
   ],
   "source": [
    "class Deer(Animal):\n",
    "    pass\n",
    "\n",
    "c = Deer()\n",
    "c.sound()"
   ]
  },
  {
   "cell_type": "markdown",
   "id": "46bc949e",
   "metadata": {},
   "source": [
    "## 1.3 Inheritance"
   ]
  },
  {
   "cell_type": "code",
   "execution_count": 15,
   "id": "f4bab813",
   "metadata": {},
   "outputs": [
    {
     "name": "stdout",
     "output_type": "stream",
     "text": [
      "Hello parent\n",
      "Hello child\n"
     ]
    }
   ],
   "source": [
    "#single member inheritance\n",
    "\n",
    "class parent:\n",
    "    def func1(self):\n",
    "        print(\"Hello parent\")\n",
    "        \n",
    "class child(parent):\n",
    "    def func2(self):\n",
    "        print(\"Hello child\")\n",
    "        \n",
    "test = child()\n",
    "test.func1()\n",
    "test.func2()\n"
   ]
  },
  {
   "cell_type": "code",
   "execution_count": 23,
   "id": "36666059",
   "metadata": {},
   "outputs": [
    {
     "name": "stdout",
     "output_type": "stream",
     "text": [
      "Hello parent1\n",
      "Hello parent3\n",
      "Hello child\n",
      "(<class '__main__.child'>, <class '__main__.parent1'>, <class '__main__.parent3'>, <class '__main__.parent2'>, <class 'object'>)\n"
     ]
    }
   ],
   "source": [
    "#multiple inheritance\n",
    "\n",
    "class parent1:\n",
    "    def func1(self):\n",
    "        print(\"Hello parent1\")\n",
    "        \n",
    "class parent2:\n",
    "    def func2(self):\n",
    "        print(\"Hello parent2\")\n",
    "        \n",
    "class parent3:\n",
    "    def func2(self):\n",
    "        print(\"Hello parent3\")\n",
    "        \n",
    "class child(parent1, parent3, parent2):\n",
    "    def func3(self):\n",
    "        print(\"Hello child\")\n",
    "        \n",
    "        \n",
    "        \n",
    "c = child()\n",
    "c.func1()\n",
    "c.func2()\n",
    "c.func3()\n",
    "\n",
    "print(child.__mro__) #see \"search order\" of the subclass"
   ]
  },
  {
   "cell_type": "code",
   "execution_count": 31,
   "id": "eab19630",
   "metadata": {},
   "outputs": [
    {
     "name": "stdout",
     "output_type": "stream",
     "text": [
      "True\n",
      "False\n",
      "True\n",
      "True\n",
      "False\n"
     ]
    }
   ],
   "source": [
    "# isinstance() and issubclass()\n",
    "\n",
    "class parent:\n",
    "    def func1(self):\n",
    "        print(\"Hello parent\")\n",
    "        \n",
    "class child(parent):\n",
    "    def func2(self):\n",
    "        print(\"Hello child\")\n",
    "        \n",
    "c = child()\n",
    "p = parent()\n",
    "        \n",
    "print(issubclass(child, parent)) #checks if child is a subclass of parent\n",
    "print(issubclass(parent, child)) #checks if parent is a subclass og child\n",
    "print(isinstance(c, parent))\n",
    "print(isinstance(p, parent))\n",
    "print(isinstance(p, child))"
   ]
  },
  {
   "cell_type": "markdown",
   "id": "ae755ac0",
   "metadata": {},
   "source": [
    "## 1.4 Polymorphism"
   ]
  },
  {
   "cell_type": "code",
   "execution_count": 4,
   "id": "23ce0998",
   "metadata": {},
   "outputs": [
    {
     "name": "stdout",
     "output_type": "stream",
     "text": [
      "Circle\n",
      "153.93804002589985\n",
      "I am a two-dimensional shape\n",
      "Cube\n",
      "94\n",
      "60\n",
      "I am a three-dimensional shape\n"
     ]
    }
   ],
   "source": [
    "from math import pi\n",
    "class Shape:\n",
    "    \n",
    "    def __init__(self, name):\n",
    "        self.name = name\n",
    "        \n",
    "    def area(self):\n",
    "        pass\n",
    "    \n",
    "    def fact(self):\n",
    "        return \"I am a two-dimensional shape\"\n",
    "    \n",
    "    def __str__(self):\n",
    "        return self.name\n",
    "    \n",
    "class Circle(Shape):\n",
    "    def __init__(self, radius):\n",
    "        super().__init__(\"Circle\")\n",
    "        self.radius = radius\n",
    "        \n",
    "    def area(self):\n",
    "        return pi*self.radius**2\n",
    "    \n",
    "class Cube(Shape):\n",
    "    def __init__(self, l, b, h):\n",
    "        super().__init__(\"Cube\")\n",
    "        self.l = l\n",
    "        self.b = b\n",
    "        self.h = h\n",
    "        \n",
    "    def fact(self):\n",
    "        return \"I am a three-dimensional shape\"\n",
    "    \n",
    "    def area(self):\n",
    "        return 2*self.l*self.b + 2*self.b*self.h + 2*self.l*self.h\n",
    "    \n",
    "    def volume(self):\n",
    "        return self.l*self.b*self.h\n",
    "    \n",
    "shapeCircle = Circle(7)\n",
    "\n",
    "print(shapeCircle)\n",
    "print(shapeCircle.area())\n",
    "print(shapeCircle.fact())\n",
    "\n",
    "shapeCube = Cube(4, 5, 3)\n",
    "\n",
    "print(shapeCube)\n",
    "print(shapeCube.area())\n",
    "print(shapeCube.volume())\n",
    "print(shapeCube.fact())\n",
    "        "
   ]
  },
  {
   "cell_type": "code",
   "execution_count": null,
   "id": "61d07808",
   "metadata": {},
   "outputs": [],
   "source": []
  }
 ],
 "metadata": {
  "kernelspec": {
   "display_name": "Python 3 (ipykernel)",
   "language": "python",
   "name": "python3"
  },
  "language_info": {
   "codemirror_mode": {
    "name": "ipython",
    "version": 3
   },
   "file_extension": ".py",
   "mimetype": "text/x-python",
   "name": "python",
   "nbconvert_exporter": "python",
   "pygments_lexer": "ipython3",
   "version": "3.9.12"
  }
 },
 "nbformat": 4,
 "nbformat_minor": 5
}

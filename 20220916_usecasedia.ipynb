{
 "cells": [
  {
   "cell_type": "markdown",
   "id": "fc989640",
   "metadata": {},
   "source": [
    "# 16.09.2022 Notes"
   ]
  },
  {
   "cell_type": "markdown",
   "id": "476d3018",
   "metadata": {},
   "source": [
    "## Use Case Diagrams"
   ]
  },
  {
   "cell_type": "markdown",
   "id": "80af55b9",
   "metadata": {},
   "source": [
    "Shows high level function\n",
    "\n",
    "Shows what the system does and doesn't do\n",
    "\n",
    "Set of actions\n",
    "\n",
    "Shows things are are usable for the user\n",
    "\n",
    "For non-engineers to understand the software\n",
    "\n",
    "Helps visualise functional requirements\n",
    "\n",
    "Functional requirements - things the software needs to function correctly\n",
    "\n",
    "Non-Functional requirements - a requirement that does not affect the function of a system (if the software has a black background or a green background for example\n",
    "\n",
    "The purpose of a use case is to define a piece of coherent behaviour without revealing the internal structure of the subject\n",
    "\n",
    "Helps visualise functional requirements of a system, including the relationships of \"actors\" to the essential processes, as well as the relationsships among different use cases\n",
    "\n",
    "Further interactions can be defined as statechart diagrams, sequence diagrams, communication diagrams, or informal text descriptions. Don't crowd the use case diagram"
   ]
  },
  {
   "cell_type": "markdown",
   "id": "538789a7",
   "metadata": {},
   "source": [
    "## Use cases"
   ]
  },
  {
   "cell_type": "markdown",
   "id": "58c03ecf",
   "metadata": {},
   "source": [
    "System boundary - defines the scope and limits of the system. Usually shown as a rectangle the spans all use cases of the system.\n",
    "\n",
    "An actor is an idealization of a role played by an external person or process.\n",
    "\n",
    "The use cases are ovals within the system boundaries.\n",
    "\n",
    "Every business functionality is a potential use case. The use case should list the discrete business functionality specified in the problem statement\n",
    "\n",
    "Generalization of an actor - one actor can inherit the role of another actor.\n",
    "\n",
    "Associations - A line between actors and use cases"
   ]
  }
 ],
 "metadata": {
  "kernelspec": {
   "display_name": "Python 3 (ipykernel)",
   "language": "python",
   "name": "python3"
  },
  "language_info": {
   "codemirror_mode": {
    "name": "ipython",
    "version": 3
   },
   "file_extension": ".py",
   "mimetype": "text/x-python",
   "name": "python",
   "nbconvert_exporter": "python",
   "pygments_lexer": "ipython3",
   "version": "3.9.12"
  }
 },
 "nbformat": 4,
 "nbformat_minor": 5
}

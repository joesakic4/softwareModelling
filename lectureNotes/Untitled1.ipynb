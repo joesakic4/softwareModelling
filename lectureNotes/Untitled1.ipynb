{
 "cells": [
  {
   "cell_type": "markdown",
   "id": "cabb43d7",
   "metadata": {},
   "source": [
    "# 28.10.2022\n",
    "## Activity Diagrams"
   ]
  },
  {
   "cell_type": "markdown",
   "id": "a9e8d648",
   "metadata": {},
   "source": [
    "The flow of control in a system.\n",
    "\n",
    "Emphasizes the condition of flow and the sequence in which it happens.\n",
    "\n",
    "Can be used to refer to the steps involved in executing a use case. (A use case can refer to several activity diagrams)\n",
    "\n",
    "Decomposing an action - Sub activity diagram (Not recommended)\n",
    "\n",
    "The difference between a flow chart and an activity digram is that flow charts do not support parallell behaviour.\n",
    "\n"
   ]
  },
  {
   "cell_type": "markdown",
   "id": "c97ee358",
   "metadata": {},
   "source": [
    "## Sequence Diagrams"
   ]
  },
  {
   "cell_type": "markdown",
   "id": "13d794bc",
   "metadata": {},
   "source": [
    "Goes into detail about what happens in the actions.\n",
    "\n",
    "Interactions between elements.\n",
    "\n",
    "Detailed flow of an activity diagram.\n",
    "\n",
    "Describe interactions among elements (use case, action...) in terms of an exchange of messages over time.\n",
    "\n",
    "The sequence of interactions are represented in a step-by-step manner.\n",
    "\n",
    "Show a detailed flow for a specific use case or even just part of a particular use case.\n",
    "\n",
    "2 dimensions: Vertical and horizontal.\n",
    "\n",
    "Vertical: shows the sequence of messages in the chronological order that they occur.\n",
    "\n",
    "Horizontal: shows the object instances to which the messages are sent.\n",
    "\n",
    "Class instances (objects) are identified across the top.\n",
    "\n",
    "Lifeline - represents an individual participant in the interaction\n",
    "\n"
   ]
  }
 ],
 "metadata": {
  "kernelspec": {
   "display_name": "Python 3 (ipykernel)",
   "language": "python",
   "name": "python3"
  },
  "language_info": {
   "codemirror_mode": {
    "name": "ipython",
    "version": 3
   },
   "file_extension": ".py",
   "mimetype": "text/x-python",
   "name": "python",
   "nbconvert_exporter": "python",
   "pygments_lexer": "ipython3",
   "version": "3.9.12"
  }
 },
 "nbformat": 4,
 "nbformat_minor": 5
}

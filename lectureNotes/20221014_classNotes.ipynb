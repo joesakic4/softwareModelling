{
 "cells": [
  {
   "cell_type": "markdown",
   "id": "cff3682c",
   "metadata": {},
   "source": [
    "# 14.10.2022"
   ]
  },
  {
   "cell_type": "markdown",
   "id": "a485aa01",
   "metadata": {},
   "source": [
    "## Interface class\n",
    "\n",
    "We use interface classes when we have certain methods that multiple classes will use.\n",
    "\n",
    "Can create methods in interface class without exposing the methods to the classes being created (data hiding).\n",
    "\n",
    "Acts as a blueprint for designing classes.\n",
    "\n",
    "Can only contain method declarations (not variable declarations).\n",
    "\n",
    "Classes that inherit an interface cannot override the methods."
   ]
  },
  {
   "cell_type": "markdown",
   "id": "3353d875",
   "metadata": {},
   "source": [
    "## 2 tricks\n",
    "\n",
    "Enumerations - model elements in class diagrams that represent user-defined data types.\n",
    "\n",
    "DataTypes - user defined datatypes containing variables with possibly different datatype.\n",
    "\n",
    "Model elements that define data values."
   ]
  }
 ],
 "metadata": {
  "kernelspec": {
   "display_name": "Python 3 (ipykernel)",
   "language": "python",
   "name": "python3"
  },
  "language_info": {
   "codemirror_mode": {
    "name": "ipython",
    "version": 3
   },
   "file_extension": ".py",
   "mimetype": "text/x-python",
   "name": "python",
   "nbconvert_exporter": "python",
   "pygments_lexer": "ipython3",
   "version": "3.9.12"
  }
 },
 "nbformat": 4,
 "nbformat_minor": 5
}
